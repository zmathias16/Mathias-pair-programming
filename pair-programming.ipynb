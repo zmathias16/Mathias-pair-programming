{
 "cells": [
  {
   "cell_type": "code",
   "execution_count": 4,
   "id": "80f57353-bc30-41f3-a99d-bd991cae591b",
   "metadata": {},
   "outputs": [],
   "source": [
    "def mean_offset(data, offset):\n",
    "    # sum variable\n",
    "    total = 0\n",
    "    for a in data:\n",
    "        total += a\n",
    "    \n",
    "    mean = total / len(data)\n",
    "    \n",
    "    # offsets the mean by the offset\n",
    "    offset_mean = mean + offset\n",
    "    \n",
    "    return offset_mean\n",
    "    "
   ]
  }
 ],
 "metadata": {
  "kernelspec": {
   "display_name": "Python 3 (ipykernel)",
   "language": "python",
   "name": "python3"
  },
  "language_info": {
   "codemirror_mode": {
    "name": "ipython",
    "version": 3
   },
   "file_extension": ".py",
   "mimetype": "text/x-python",
   "name": "python",
   "nbconvert_exporter": "python",
   "pygments_lexer": "ipython3",
   "version": "3.9.13"
  }
 },
 "nbformat": 4,
 "nbformat_minor": 5
}
