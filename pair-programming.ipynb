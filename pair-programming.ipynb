{
 "cells": [
  {
   "cell_type": "code",
   "execution_count": null,
   "id": "80f57353-bc30-41f3-a99d-bd991cae591b",
   "metadata": {},
   "outputs": [],
   "source": [
    "def mean_offset(data, offset):\n",
    "    # sum variable\n",
    "    total = 0\n",
    "    for a in data:\n",
    "        total += a #Maile: Using concise techniques, very cool\n",
    "    \n",
    "    mean = total / len(data)\n",
    "    \n",
    "    # offsets the mean by the offset\n",
    "    offset_mean = mean + offset\n",
    "    \n",
    "    return offset_mean\n",
    "#Maile: The comments look good and help me understand what the funtions mean"
   ]
  },
  {
   "cell_type": "code",
   "execution_count": null,
   "id": "62ee459d-e6fc-4c08-bc39-dcc73baea1bb",
   "metadata": {},
   "outputs": [],
   "source": [
    "data = [1,2,3]\n",
    "offset = 3\n",
    "\n",
    "def mean_offset(data, offset):\n",
    "    # sum variable\n",
    "    total = 0\n",
    "    for a in data:\n",
    "        total += a \n",
    "    \n",
    "    mean = total / len(data)\n",
    "    \n",
    "    # offsets the mean by the offset\n",
    "    offset_mean = mean + offset\n",
    "    \n",
    "    return offset_mean"
   ]
  },
  {
   "cell_type": "code",
   "execution_count": null,
   "id": "7d25ffcc-38fe-4a88-8061-ec8bbede8045",
   "metadata": {},
   "outputs": [],
   "source": [
    "data = [3,5,7]\n",
    "offset = 2\n",
    "\n",
    "def mean_offset(data, offset):\n",
    "    # sum variable\n",
    "    total = 0\n",
    "    for a in data:\n",
    "        total += a \n",
    "    \n",
    "    mean = total / len(data)\n",
    "    \n",
    "    # offsets the mean by the offset\n",
    "    offset_mean = mean + offset\n",
    "    \n",
    "    return offset_mean"
   ]
  }
 ],
 "metadata": {
  "kernelspec": {
   "display_name": "Python 3 (ipykernel)",
   "language": "python",
   "name": "python3"
  },
  "language_info": {
   "codemirror_mode": {
    "name": "ipython",
    "version": 3
   },
   "file_extension": ".py",
   "mimetype": "text/x-python",
   "name": "python",
   "nbconvert_exporter": "python",
   "pygments_lexer": "ipython3",
   "version": "3.9.13"
  }
 },
 "nbformat": 4,
 "nbformat_minor": 5
}
